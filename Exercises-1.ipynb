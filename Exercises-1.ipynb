{
 "cells": [
  {
   "cell_type": "code",
   "execution_count": 7,
   "metadata": {},
   "outputs": [],
   "source": [
    "%matplotlib inline\n",
    "import pandas as pd"
   ]
  },
  {
   "cell_type": "code",
   "execution_count": 11,
   "metadata": {},
   "outputs": [
    {
     "data": {
      "text/html": [
       "<div>\n",
       "<style scoped>\n",
       "    .dataframe tbody tr th:only-of-type {\n",
       "        vertical-align: middle;\n",
       "    }\n",
       "\n",
       "    .dataframe tbody tr th {\n",
       "        vertical-align: top;\n",
       "    }\n",
       "\n",
       "    .dataframe thead th {\n",
       "        text-align: right;\n",
       "    }\n",
       "</style>\n",
       "<table border=\"1\" class=\"dataframe\">\n",
       "  <thead>\n",
       "    <tr style=\"text-align: right;\">\n",
       "      <th></th>\n",
       "      <th>title</th>\n",
       "      <th>year</th>\n",
       "      <th>name</th>\n",
       "      <th>type</th>\n",
       "      <th>character</th>\n",
       "      <th>n</th>\n",
       "    </tr>\n",
       "  </thead>\n",
       "  <tbody>\n",
       "    <tr>\n",
       "      <th>0</th>\n",
       "      <td>Closet Monster</td>\n",
       "      <td>2015</td>\n",
       "      <td>Buffy #1</td>\n",
       "      <td>actor</td>\n",
       "      <td>Buffy 4</td>\n",
       "      <td>NaN</td>\n",
       "    </tr>\n",
       "    <tr>\n",
       "      <th>1</th>\n",
       "      <td>Suuri illusioni</td>\n",
       "      <td>1985</td>\n",
       "      <td>Homo $</td>\n",
       "      <td>actor</td>\n",
       "      <td>Guests</td>\n",
       "      <td>22.0</td>\n",
       "    </tr>\n",
       "    <tr>\n",
       "      <th>2</th>\n",
       "      <td>Battle of the Sexes</td>\n",
       "      <td>2017</td>\n",
       "      <td>$hutter</td>\n",
       "      <td>actor</td>\n",
       "      <td>Bobby Riggs Fan</td>\n",
       "      <td>10.0</td>\n",
       "    </tr>\n",
       "    <tr>\n",
       "      <th>3</th>\n",
       "      <td>Secret in Their Eyes</td>\n",
       "      <td>2015</td>\n",
       "      <td>$hutter</td>\n",
       "      <td>actor</td>\n",
       "      <td>2002 Dodger Fan</td>\n",
       "      <td>NaN</td>\n",
       "    </tr>\n",
       "    <tr>\n",
       "      <th>4</th>\n",
       "      <td>Steve Jobs</td>\n",
       "      <td>2015</td>\n",
       "      <td>$hutter</td>\n",
       "      <td>actor</td>\n",
       "      <td>1988 Opera House Patron</td>\n",
       "      <td>NaN</td>\n",
       "    </tr>\n",
       "  </tbody>\n",
       "</table>\n",
       "</div>"
      ],
      "text/plain": [
       "                  title  year      name   type                character     n\n",
       "0        Closet Monster  2015  Buffy #1  actor                  Buffy 4   NaN\n",
       "1       Suuri illusioni  1985    Homo $  actor                   Guests  22.0\n",
       "2   Battle of the Sexes  2017   $hutter  actor          Bobby Riggs Fan  10.0\n",
       "3  Secret in Their Eyes  2015   $hutter  actor          2002 Dodger Fan   NaN\n",
       "4            Steve Jobs  2015   $hutter  actor  1988 Opera House Patron   NaN"
      ]
     },
     "execution_count": 11,
     "metadata": {},
     "output_type": "execute_result"
    }
   ],
   "source": [
    "cast = pd.read_csv('D:\\Topmentor\\excel top\\cast.csv')\n",
    "cast.head()"
   ]
  },
  {
   "cell_type": "markdown",
   "metadata": {
    "collapsed": true
   },
   "source": [
    "### How many movies are listed in the titles dataframe?"
   ]
  },
  {
   "cell_type": "code",
   "execution_count": 154,
   "metadata": {},
   "outputs": [
    {
     "name": "stdout",
     "output_type": "stream",
     "text": [
      "172294\n"
     ]
    }
   ],
   "source": [
    "titles = cast.title.unique()\n",
    "num_movies = len(titles)\n",
    "print(num_movies)"
   ]
  },
  {
   "cell_type": "code",
   "execution_count": 146,
   "metadata": {},
   "outputs": [],
   "source": [
    "copy_cast = pd.DataFrame(cast)\n"
   ]
  },
  {
   "cell_type": "markdown",
   "metadata": {
    "collapsed": true
   },
   "source": [
    "### What are the earliest two films listed in the titles dataframe?"
   ]
  },
  {
   "cell_type": "code",
   "execution_count": 13,
   "metadata": {},
   "outputs": [],
   "source": [
    "cast = cast.sort_values(by='year')"
   ]
  },
  {
   "cell_type": "code",
   "execution_count": 18,
   "metadata": {},
   "outputs": [
    {
     "name": "stdout",
     "output_type": "stream",
     "text": [
      "the earliest two films listed in the titles dataframe :\n",
      "              title  year             name     type  \\\n",
      "2514470  Miss Jerry  1894  Blanche Bayliss  actress   \n",
      "555929   Miss Jerry  1894   Chauncey Depew    actor   \n",
      "\n",
      "                                                 character   n  \n",
      "2514470               Miss Geraldine Holbrook (Miss Jerry) NaN  \n",
      "555929   Himself - the Director of the New York Central... NaN  \n"
     ]
    }
   ],
   "source": [
    "earliest_flims = cast.head(2)\n",
    "print(\"the earliest two films listed in the titles dataframe :\")\n",
    "print(earliest_flims)"
   ]
  },
  {
   "cell_type": "markdown",
   "metadata": {
    "collapsed": true
   },
   "source": [
    "### How many movies have the title \"Hamlet\"?"
   ]
  },
  {
   "cell_type": "code",
   "execution_count": 155,
   "metadata": {},
   "outputs": [],
   "source": [
    "hamlet_movies = cast[cast.title == 'Hamlet']"
   ]
  },
  {
   "cell_type": "code",
   "execution_count": 156,
   "metadata": {},
   "outputs": [
    {
     "name": "stdout",
     "output_type": "stream",
     "text": [
      "No of movies have the title Hamlet :  313\n"
     ]
    }
   ],
   "source": [
    "num_hamlet_movies = len(hamlet_movies)\n",
    "print(\"No of movies have the title Hamlet : \", num_hamlet_movies)"
   ]
  },
  {
   "cell_type": "markdown",
   "metadata": {
    "collapsed": true
   },
   "source": [
    "### How many movies are titled \"North by Northwest\"?"
   ]
  },
  {
   "cell_type": "code",
   "execution_count": 116,
   "metadata": {},
   "outputs": [],
   "source": [
    "northwest_movies = cast[cast.title == 'North by Northwest']"
   ]
  },
  {
   "cell_type": "code",
   "execution_count": 117,
   "metadata": {},
   "outputs": [
    {
     "name": "stdout",
     "output_type": "stream",
     "text": [
      "No of movies have the title North by Northwest :  112\n"
     ]
    }
   ],
   "source": [
    "num_northwest_movies = len(northwest_movies)\n",
    "print(\"No of movies have the title North by Northwest : \",num_northwest_movies)"
   ]
  },
  {
   "cell_type": "markdown",
   "metadata": {
    "collapsed": true
   },
   "source": [
    "### When was the first movie titled \"Hamlet\" made?"
   ]
  },
  {
   "cell_type": "code",
   "execution_count": 25,
   "metadata": {},
   "outputs": [],
   "source": [
    "hamlet_movie = hamlet_movies.sort_values(by ='year')"
   ]
  },
  {
   "cell_type": "code",
   "execution_count": 38,
   "metadata": {},
   "outputs": [
    {
     "name": "stdout",
     "output_type": "stream",
     "text": [
      "The first movie titled 'Hamlet' was made in the year: 1910\n"
     ]
    }
   ],
   "source": [
    "first_hamlet_movie = hamlet_movies.head(1)\n",
    "first_hamlet_movie_year = first_hamlet_movie['year'].values[0]\n",
    "print(\"The first movie titled 'Hamlet' was made in the year:\", first_hamlet_movie_year)"
   ]
  },
  {
   "cell_type": "code",
   "execution_count": null,
   "metadata": {},
   "outputs": [],
   "source": [
    "print()"
   ]
  },
  {
   "cell_type": "markdown",
   "metadata": {
    "collapsed": true
   },
   "source": [
    "### List all of the \"Treasure Island\" movies from earliest to most recent."
   ]
  },
  {
   "cell_type": "code",
   "execution_count": 157,
   "metadata": {},
   "outputs": [],
   "source": [
    "treasure_island_movies = cast[cast.title == 'Treasure Island']"
   ]
  },
  {
   "cell_type": "code",
   "execution_count": 40,
   "metadata": {},
   "outputs": [
    {
     "name": "stdout",
     "output_type": "stream",
     "text": [
      "List of 'Treasure Island' movies from earliest to most recent:\n",
      "                   title  year                name     type         character  \\\n",
      "830114   Treasure Island  1918      Charles Gorman    actor   Prologue Player   \n",
      "339256   Treasure Island  1918   Francis Carpenter    actor       Jim Hawkins   \n",
      "1417884  Treasure Island  1918     Herschel Mayall    actor   Prologue Player   \n",
      "3298306  Treasure Island  1918    Violet Radcliffe  actress  Long John Silver   \n",
      "1261579  Treasure Island  1918         Raymond Lee    actor          Bit Role   \n",
      "...                  ...   ...                 ...      ...               ...   \n",
      "445745   Treasure Island  1999         Becket Cook    actor          The Gent   \n",
      "307749   Treasure Island  1999        Bob Byington    actor            Thomas   \n",
      "3245250  Treasure Island  1999       Lisa Papineau  actress            Diedre   \n",
      "2931880  Treasure Island  1999  Stephanie Ittleson  actress            Stella   \n",
      "3507587  Treasure Island  1999    Guinevere Turner  actress            Evelyn   \n",
      "\n",
      "            n  \n",
      "830114    NaN  \n",
      "339256    1.0  \n",
      "1417884   NaN  \n",
      "3298306   3.0  \n",
      "1261579   NaN  \n",
      "...       ...  \n",
      "445745   13.0  \n",
      "307749   12.0  \n",
      "3245250  19.0  \n",
      "2931880   7.0  \n",
      "3507587  14.0  \n",
      "\n",
      "[190 rows x 6 columns]\n"
     ]
    }
   ],
   "source": [
    "treasure_island_movies = treasure_island_movies.sort_values(by='year')\n",
    "print(\"List of 'Treasure Island' movies from earliest to most recent:\")\n",
    "print(treasure_island_movies)"
   ]
  },
  {
   "cell_type": "markdown",
   "metadata": {
    "collapsed": true
   },
   "source": [
    "### How many movies were made in the year 1950?"
   ]
  },
  {
   "cell_type": "code",
   "execution_count": 158,
   "metadata": {},
   "outputs": [],
   "source": [
    "movies_in_1950 = cast[cast.year == 1950]"
   ]
  },
  {
   "cell_type": "code",
   "execution_count": 57,
   "metadata": {},
   "outputs": [
    {
     "name": "stdout",
     "output_type": "stream",
     "text": [
      "Number of movies made in the year 1950: 22006\n"
     ]
    }
   ],
   "source": [
    "num_movies_in_1950 = len(movies_in_1950)\n",
    "print(\"Number of movies made in the year 1950:\", num_movies_in_1950)"
   ]
  },
  {
   "cell_type": "markdown",
   "metadata": {
    "collapsed": true
   },
   "source": [
    "### How many movies were made in the year 1960?"
   ]
  },
  {
   "cell_type": "code",
   "execution_count": 159,
   "metadata": {},
   "outputs": [],
   "source": [
    "movies_in_1960 = cast[cast.year == 1960]"
   ]
  },
  {
   "cell_type": "code",
   "execution_count": 60,
   "metadata": {},
   "outputs": [
    {
     "name": "stdout",
     "output_type": "stream",
     "text": [
      "Number of movies made in the year 1960: 18456\n"
     ]
    }
   ],
   "source": [
    "num_movies_in_1960 = len(movies_in_1960)\n",
    "print(\"Number of movies made in the year 1960:\", num_movies_in_1960)"
   ]
  },
  {
   "cell_type": "markdown",
   "metadata": {
    "collapsed": true
   },
   "source": [
    "### How many movies were made from 1950 through 1959?"
   ]
  },
  {
   "cell_type": "code",
   "execution_count": 160,
   "metadata": {},
   "outputs": [],
   "source": [
    "movies_btw_50s = cast[(cast.year >= 1950) & (cast.year <=1959)]"
   ]
  },
  {
   "cell_type": "code",
   "execution_count": 62,
   "metadata": {},
   "outputs": [
    {
     "name": "stdout",
     "output_type": "stream",
     "text": [
      "Number of movies made from 1950 through 1959: 210986\n"
     ]
    }
   ],
   "source": [
    "num_movies_btw_50s = len(movies_btw_50s)\n",
    "print(\"Number of movies made from 1950 through 1959:\", num_movies_btw_50s)"
   ]
  },
  {
   "cell_type": "markdown",
   "metadata": {
    "collapsed": true
   },
   "source": [
    "### In what years has a movie titled \"Batman\" been released?"
   ]
  },
  {
   "cell_type": "code",
   "execution_count": 161,
   "metadata": {},
   "outputs": [],
   "source": [
    "batman_movies = cast[cast.title == 'Batman']"
   ]
  },
  {
   "cell_type": "code",
   "execution_count": 65,
   "metadata": {},
   "outputs": [
    {
     "name": "stdout",
     "output_type": "stream",
     "text": [
      "Years in which a movie titled 'Batman' has been released:\n",
      "[1943 1989]\n"
     ]
    }
   ],
   "source": [
    "batman_movies = batman_movies['year'].unique()\n",
    "print(\"Years in which a movie titled 'Batman' has been released:\")\n",
    "print(batman_movies)"
   ]
  },
  {
   "cell_type": "markdown",
   "metadata": {
    "collapsed": true
   },
   "source": [
    "### How many roles were there in the movie \"Inception\"?"
   ]
  },
  {
   "cell_type": "code",
   "execution_count": 162,
   "metadata": {},
   "outputs": [],
   "source": [
    "inception_movies = cast[cast.title == 'Inception']\n",
    "roles_inception = inception_movies['character'].tolist()"
   ]
  },
  {
   "cell_type": "code",
   "execution_count": 82,
   "metadata": {
    "collapsed": true
   },
   "outputs": [
    {
     "name": "stdout",
     "output_type": "stream",
     "text": [
      "Number of roles in the movie 'Inception': 77\n",
      "List out the roles:\n",
      "-------------------\n",
      "Mal\n",
      "LAX Passenger\n",
      "Phillipa (5 years)\n",
      "Bridge Sub Con\n",
      "Phillipa (3 years)\n",
      "Penrose Sub Con\n",
      "Reporter\n",
      "Italian Gambler\n",
      "Elderly Bald Man\n",
      "Bar Sub Con\n",
      "Miles\n",
      "Bridge Sub Con\n",
      "Old Mal\n",
      "Fischer's Jet Captain\n",
      "Cab Driver\n",
      "Stockbroker\n",
      "Extra\n",
      "LAX Passenger\n",
      "Cobb\n",
      "Browning\n",
      "Mombasan Gambler\n",
      "Bridge Sub Con\n",
      "Mombasan Cashier\n",
      "Stock Broker\n",
      "Bridge Sub Con\n",
      "Penrose Sub Con\n",
      "Nash\n",
      "Hotel Guest\n",
      "A Passer-By\n",
      "Denison\n",
      "Bar Sub Con\n",
      "Eames\n",
      "LAX Passenger\n",
      "Fischer's Driver\n",
      "Robert Fischer\n",
      "Ariadne\n",
      "Japanese Landing Crew\n",
      "Airport Patron\n",
      "Blonde\n",
      "Businessman\n",
      "James (20 months)\n",
      "Pedestrian\n",
      "French Student\n",
      "Tadashi\n",
      "Street Person\n",
      "Lawyer\n",
      "Bar Sub Con\n",
      "Saito's Bodyguard Officer\n",
      "Businessman\n",
      "Flight Attendant\n",
      "Mombasa Casino Cashier\n",
      "Lobby Sub Con\n",
      "James (3 years)\n",
      "Immigration Officer\n",
      "Lobby Sub Con\n",
      "Airport Patron\n",
      "Lobby Sub Con\n",
      "Thin Man\n",
      "Penrose Sub Con\n",
      "Saito's Attendant\n",
      "Bridge Sub Con\n",
      "Yusuf\n",
      "Lobby Sub Con\n",
      "Old Cobb\n",
      "Bar Sub Con\n",
      "Bar Sub Con\n",
      "Bridge Sub Con\n",
      "Japanese Security Guard\n",
      "Bridge Sub Con\n",
      "Mombasan Casino Staff\n",
      "Lobby Sub Con\n",
      "Pedestrian\n",
      "Private Nurse\n",
      "Maurice Fischer\n",
      "Arthur\n",
      "Airport Patron\n",
      "Saito\n"
     ]
    }
   ],
   "source": [
    "num_roles_inception = len(roles_inception)\n",
    "\n",
    "print(\"Number of roles in the movie 'Inception':\", num_roles_inception)\n",
    "print(\"List out the roles:\")\n",
    "print(\"-------------------\")\n",
    "for role in roles_inception:\n",
    "    print(role)"
   ]
  },
  {
   "cell_type": "markdown",
   "metadata": {
    "collapsed": true
   },
   "source": [
    "### How many roles in the movie \"Inception\" are NOT ranked by an \"n\" value?"
   ]
  },
  {
   "cell_type": "code",
   "execution_count": 164,
   "metadata": {},
   "outputs": [],
   "source": [
    "inception_roles = cast[(cast.title == 'Inception') & cast.n.isna()]"
   ]
  },
  {
   "cell_type": "code",
   "execution_count": 84,
   "metadata": {},
   "outputs": [
    {
     "name": "stdout",
     "output_type": "stream",
     "text": [
      "Number of roles in the movie 'Inception' without an 'n' value: 26\n"
     ]
    }
   ],
   "source": [
    "num_roles_without_n = len(inception_roles)\n",
    "print(\"Number of roles in the movie 'Inception' without an 'n' value:\", num_roles_without_n)"
   ]
  },
  {
   "cell_type": "markdown",
   "metadata": {
    "collapsed": true
   },
   "source": [
    "### But how many roles in the movie \"Inception\" did receive an \"n\" value?"
   ]
  },
  {
   "cell_type": "code",
   "execution_count": 165,
   "metadata": {},
   "outputs": [],
   "source": [
    "inception_roles_with_n = cast[(cast.title == 'Inception') & cast.n.notna()]"
   ]
  },
  {
   "cell_type": "code",
   "execution_count": 86,
   "metadata": {},
   "outputs": [
    {
     "name": "stdout",
     "output_type": "stream",
     "text": [
      "Number of roles in the movie 'Inception' without an 'n' value: 51\n"
     ]
    }
   ],
   "source": [
    "    num_roles_with_n = len(inception_roles_with_n)\n",
    "print(\"Number of roles in the movie 'Inception' without an 'n' value:\", num_roles_with_n)"
   ]
  },
  {
   "cell_type": "markdown",
   "metadata": {
    "collapsed": true
   },
   "source": [
    "### Display the cast of \"North by Northwest\" in their correct \"n\"-value order, ignoring roles that did not earn a numeric \"n\" value."
   ]
  },
  {
   "cell_type": "code",
   "execution_count": 166,
   "metadata": {},
   "outputs": [],
   "source": [
    "northwest_cast = cast[(cast.title == 'North by Northwest') & cast.n.notna()]"
   ]
  },
  {
   "cell_type": "code",
   "execution_count": 103,
   "metadata": {},
   "outputs": [
    {
     "name": "stdout",
     "output_type": "stream",
     "text": [
      "                         name                    character     n\n",
      "840374             Cary Grant           Roger O. Thornhill   1.0\n",
      "3361396       Eva Marie Saint                  Eve Kendall   2.0\n",
      "1404704           James Mason              Phillip Vandamm   3.0\n",
      "3024085   Jessie Royce Landis              Clara Thornhill   4.0\n",
      "343701         Leo G. Carroll                The Professor   5.0\n",
      "2923056  Josephine Hutchinson                Mrs. Townsend   6.0\n",
      "1634552           Philip Ober              Lester Townsend   7.0\n",
      "1229083         Martin Landau                      Leonard   8.0\n",
      "2357939         Adam Williams                     Valerian   9.0\n",
      "1746383          Edward Platt              Victor Larrabee  10.0\n",
      "642085      Robert Ellenstein                        Licht  11.0\n",
      "2212083          Les Tremayne                   Auctioneer  12.0\n",
      "447893        Philip Coolidge                    Dr. Cross  13.0\n",
      "1454363         Patrick McVey               Sergeant Flamm  14.0\n",
      "198496           Edward Binns               Captain Junket  15.0\n",
      "1334726             Ken Lynch  Charley - Chicago Policeman  16.0\n"
     ]
    }
   ],
   "source": [
    "northwest_cast['n']=pd.to_numeric(northwest_cast['n'])\n",
    "northwest_cast = northwest_cast.sort_values(by='n')\n",
    "print(northwest_cast[['name','character','n']])"
   ]
  },
  {
   "cell_type": "markdown",
   "metadata": {
    "collapsed": true
   },
   "source": [
    "### Display the entire cast, in \"n\"-order, of the 1972 film \"Sleuth\"."
   ]
  },
  {
   "cell_type": "code",
   "execution_count": 167,
   "metadata": {},
   "outputs": [],
   "source": [
    "sleuth_1972_cast = cast[(cast.title == 'Sleuth') & cast.n.notna()& (cast.year == 1972)]"
   ]
  },
  {
   "cell_type": "code",
   "execution_count": 107,
   "metadata": {},
   "outputs": [
    {
     "name": "stdout",
     "output_type": "stream",
     "text": [
      "         year                name                   character    n\n",
      "1644328  1972    Laurence Olivier                 Andrew Wyke  1.0\n",
      "314691   1972       Michael Caine                 Milo Tindle  2.0\n",
      "360365   1972      Alec Cawthorne           Inspector Doppler  3.0\n",
      "1412647  1972  John (II) Matthews  Detective Sergeant Tarrant  4.0\n",
      "2619278  1972  Eve (III) Channing             Marguerite Wyke  5.0\n",
      "1396572  1972        Teddy Martin      Police Constable Higgs  6.0\n"
     ]
    }
   ],
   "source": [
    "# Convert the \"n\" column to numeric values (in case it's not already)\n",
    "sleuth_1972_cast['n'] = pd.to_numeric(sleuth_1972_cast['n'])   \n",
    "# Sort the \"n\" values in ascending order\n",
    "sleuth_1972_cast = sleuth_1972_cast.sort_values(by='n')\n",
    "\n",
    "print(sleuth_1972_cast[['year','name', 'character', 'n']])\n"
   ]
  },
  {
   "cell_type": "markdown",
   "metadata": {
    "collapsed": true
   },
   "source": [
    "### Now display the entire cast, in \"n\"-order, of the 2007 version of \"Sleuth\"."
   ]
  },
  {
   "cell_type": "code",
   "execution_count": 168,
   "metadata": {},
   "outputs": [],
   "source": [
    "sleuth_2007_cast = cast[(cast.title == 'Sleuth') & cast.n.notna()& (cast.year == 2007)]"
   ]
  },
  {
   "cell_type": "code",
   "execution_count": 113,
   "metadata": {},
   "outputs": [
    {
     "name": "stdout",
     "output_type": "stream",
     "text": [
      "          title  year           name    character    n\n",
      "314692   Sleuth  2007  Michael Caine       Andrew  1.0\n",
      "1246855  Sleuth  2007       Jude Law         Milo  2.0\n",
      "1741124  Sleuth  2007  Harold Pinter  Man on T.V.  3.0\n"
     ]
    }
   ],
   "source": [
    "# Convert the \"n\" column to numeric values (in case it's not already)\n",
    "sleuth_2007_cast['n'] = pd.to_numeric(sleuth_2007_cast['n'])   \n",
    "# Sort the \"n\" values in ascending order\n",
    "sleuth_2007_cast = sleuth_2007_cast.sort_values(by='n')\n",
    "\n",
    "print(sleuth_2007_cast[['title','year','name', 'character', 'n']])"
   ]
  },
  {
   "cell_type": "markdown",
   "metadata": {
    "collapsed": true
   },
   "source": [
    "### How many roles were credited in the silent 1921 version of Hamlet?"
   ]
  },
  {
   "cell_type": "code",
   "execution_count": 118,
   "metadata": {},
   "outputs": [
    {
     "name": "stdout",
     "output_type": "stream",
     "text": [
      "Number of credited roles in the silent 1921 version of 'Hamlet': 9\n"
     ]
    }
   ],
   "source": [
    "hamlet_1921 = len(cast[(cast.title == 'Hamlet') & (cast.year == 1921)])\n",
    "print(\"Number of credited roles in the silent 1921 version of 'Hamlet':\", hamlet_1921)"
   ]
  },
  {
   "cell_type": "code",
   "execution_count": null,
   "metadata": {
    "collapsed": true
   },
   "outputs": [],
   "source": []
  },
  {
   "cell_type": "markdown",
   "metadata": {
    "collapsed": true
   },
   "source": [
    "### How many roles were credited in Branagh’s 1996 Hamlet?"
   ]
  },
  {
   "cell_type": "code",
   "execution_count": 123,
   "metadata": {},
   "outputs": [],
   "source": [
    "hamlet_1996 =len(cast[(cast.title == 'Hamlet') & (cast.year == 1996)])"
   ]
  },
  {
   "cell_type": "code",
   "execution_count": 124,
   "metadata": {},
   "outputs": [
    {
     "name": "stdout",
     "output_type": "stream",
     "text": [
      "54\n"
     ]
    }
   ],
   "source": [
    "print(hamlet_1996)"
   ]
  },
  {
   "cell_type": "markdown",
   "metadata": {
    "collapsed": true
   },
   "source": [
    "### How many \"Hamlet\" roles have been listed in all film credits through history?"
   ]
  },
  {
   "cell_type": "code",
   "execution_count": 125,
   "metadata": {},
   "outputs": [
    {
     "name": "stdout",
     "output_type": "stream",
     "text": [
      "313\n"
     ]
    }
   ],
   "source": [
    "num_hamlet_roles = len(cast[(cast.title == 'Hamlet')])\n",
    "print(num_hamlet_roles)"
   ]
  },
  {
   "cell_type": "code",
   "execution_count": null,
   "metadata": {
    "collapsed": true
   },
   "outputs": [],
   "source": []
  },
  {
   "cell_type": "markdown",
   "metadata": {
    "collapsed": true
   },
   "source": [
    "### How many people have played an \"Ophelia\"?"
   ]
  },
  {
   "cell_type": "code",
   "execution_count": 127,
   "metadata": {},
   "outputs": [
    {
     "name": "stdout",
     "output_type": "stream",
     "text": [
      "111\n"
     ]
    }
   ],
   "source": [
    "num_ophelia_roles = len(cast[cast.character =='Ophelia'])\n",
    "print(num_ophelia_roles)"
   ]
  },
  {
   "cell_type": "code",
   "execution_count": null,
   "metadata": {
    "collapsed": true
   },
   "outputs": [],
   "source": []
  },
  {
   "cell_type": "markdown",
   "metadata": {
    "collapsed": true
   },
   "source": [
    "### How many people have played a role called \"The Dude\"?"
   ]
  },
  {
   "cell_type": "code",
   "execution_count": 128,
   "metadata": {},
   "outputs": [
    {
     "name": "stdout",
     "output_type": "stream",
     "text": [
      "18\n"
     ]
    }
   ],
   "source": [
    "num_dude_roles = len(cast[cast.character =='The Dude'])\n",
    "print(num_dude_roles)"
   ]
  },
  {
   "cell_type": "code",
   "execution_count": null,
   "metadata": {
    "collapsed": true
   },
   "outputs": [],
   "source": []
  },
  {
   "cell_type": "markdown",
   "metadata": {
    "collapsed": true
   },
   "source": [
    "### How many people have played a role called \"The Stranger\"?"
   ]
  },
  {
   "cell_type": "code",
   "execution_count": 129,
   "metadata": {},
   "outputs": [
    {
     "name": "stdout",
     "output_type": "stream",
     "text": [
      "208\n"
     ]
    }
   ],
   "source": [
    "num_stranger_roles = len(cast[cast.character =='The Stranger'])\n",
    "print(num_stranger_roles)"
   ]
  },
  {
   "cell_type": "code",
   "execution_count": null,
   "metadata": {
    "collapsed": true
   },
   "outputs": [],
   "source": []
  },
  {
   "cell_type": "markdown",
   "metadata": {
    "collapsed": true
   },
   "source": [
    "### How many roles has Sidney Poitier played throughout his career?"
   ]
  },
  {
   "cell_type": "code",
   "execution_count": 131,
   "metadata": {},
   "outputs": [
    {
     "name": "stdout",
     "output_type": "stream",
     "text": [
      "43\n"
     ]
    }
   ],
   "source": [
    "num_sidney_poitier_acted = len(cast[cast.name == 'Sidney Poitier'])\n",
    "print(num_sidney_poitier_acted)"
   ]
  },
  {
   "cell_type": "code",
   "execution_count": null,
   "metadata": {
    "collapsed": true
   },
   "outputs": [],
   "source": []
  },
  {
   "cell_type": "markdown",
   "metadata": {
    "collapsed": true
   },
   "source": [
    "### How many roles has Judi Dench played?"
   ]
  },
  {
   "cell_type": "code",
   "execution_count": 133,
   "metadata": {},
   "outputs": [
    {
     "name": "stdout",
     "output_type": "stream",
     "text": [
      "55\n"
     ]
    }
   ],
   "source": [
    "num_judi_dench_acted = len(cast[cast.name == 'Judi Dench'])\n",
    "print(num_judi_dench_acted)"
   ]
  },
  {
   "cell_type": "code",
   "execution_count": null,
   "metadata": {
    "collapsed": true
   },
   "outputs": [],
   "source": []
  },
  {
   "cell_type": "markdown",
   "metadata": {
    "collapsed": true
   },
   "source": [
    "### List the supporting roles (having n=2) played by Cary Grant in the 1940s, in order by year."
   ]
  },
  {
   "cell_type": "code",
   "execution_count": 135,
   "metadata": {},
   "outputs": [
    {
     "name": "stdout",
     "output_type": "stream",
     "text": [
      "                   title  year        name   type    character    n\n",
      "840371  My Favorite Wife  1940  Cary Grant  actor         Nick  2.0\n",
      "840381    Penny Serenade  1941  Cary Grant  actor  Roger Adams  2.0\n"
     ]
    }
   ],
   "source": [
    "supporting_roles = cast[(cast.name == 'Cary Grant') & (cast.year// 10 == 194) & (cast.n == 2)]\n",
    "supporting_roles = supporting_roles.sort_values(by='year')\n",
    "print(supporting_roles)"
   ]
  },
  {
   "cell_type": "code",
   "execution_count": null,
   "metadata": {
    "collapsed": true
   },
   "outputs": [],
   "source": []
  },
  {
   "cell_type": "markdown",
   "metadata": {
    "collapsed": true
   },
   "source": [
    "### List the leading roles that Cary Grant played in the 1940s in order by year."
   ]
  },
  {
   "cell_type": "code",
   "execution_count": 136,
   "metadata": {},
   "outputs": [
    {
     "name": "stdout",
     "output_type": "stream",
     "text": [
      "                                       title  year        name   type  \\\n",
      "840353                       His Girl Friday  1940  Cary Grant  actor   \n",
      "840397               The Howards of Virginia  1940  Cary Grant  actor   \n",
      "840399                The Philadelphia Story  1940  Cary Grant  actor   \n",
      "840386                             Suspicion  1941  Cary Grant  actor   \n",
      "840377                 Once Upon a Honeymoon  1942  Cary Grant  actor   \n",
      "840401                  The Talk of the Town  1942  Cary Grant  actor   \n",
      "840344                     Destination Tokyo  1943  Cary Grant  actor   \n",
      "840369                             Mr. Lucky  1943  Cary Grant  actor   \n",
      "840370                             Mr. Lucky  1943  Cary Grant  actor   \n",
      "840336                  Arsenic and Old Lace  1944  Cary Grant  actor   \n",
      "840373             None But the Lonely Heart  1944  Cary Grant  actor   \n",
      "840378                      Once Upon a Time  1944  Cary Grant  actor   \n",
      "840375                             Notorious  1946  Cary Grant  actor   \n",
      "840372                         Night and Day  1946  Cary Grant  actor   \n",
      "840394                     The Bishop's Wife  1947  Cary Grant  actor   \n",
      "840393      The Bachelor and the Bobby-Soxer  1947  Cary Grant  actor   \n",
      "840368  Mr. Blandings Builds His Dream House  1948  Cary Grant  actor   \n",
      "840348          Every Girl Should Be Married  1948  Cary Grant  actor   \n",
      "840357                I Was a Male War Bride  1949  Cary Grant  actor   \n",
      "\n",
      "                    character    n  \n",
      "840353           Walter Burns  1.0  \n",
      "840397            Matt Howard  1.0  \n",
      "840399     C. K. Dexter Haven  1.0  \n",
      "840386                Johnnie  1.0  \n",
      "840377  Patrick 'Pat' O'Toole  1.0  \n",
      "840401           Leopold Dilg  1.0  \n",
      "840344          Capt. Cassidy  1.0  \n",
      "840369              Joe Adams  1.0  \n",
      "840370        Joe Bascopolous  1.0  \n",
      "840336      Mortimer Brewster  1.0  \n",
      "840373             Ernie Mott  1.0  \n",
      "840378            Jerry Flynn  1.0  \n",
      "840375                 Devlin  1.0  \n",
      "840372            Cole Porter  1.0  \n",
      "840394                 Dudley  1.0  \n",
      "840393            Dick Nugent  1.0  \n",
      "840368          Jim Blandings  1.0  \n",
      "840348      Dr. Madison Brown  1.0  \n",
      "840357  Captain Henri Rochard  1.0  \n"
     ]
    }
   ],
   "source": [
    "supporting_roles_cg = cast[(cast.name == 'Cary Grant') & (cast.year// 10 == 194) & (cast.n == 1)]\n",
    "supporting_roles_cg = supporting_roles_cg.sort_values(by='year')\n",
    "print(supporting_roles_cg)"
   ]
  },
  {
   "cell_type": "code",
   "execution_count": null,
   "metadata": {
    "collapsed": true
   },
   "outputs": [],
   "source": []
  },
  {
   "cell_type": "markdown",
   "metadata": {
    "collapsed": true
   },
   "source": [
    "### How many roles were available for actors in the 1950s?"
   ]
  },
  {
   "cell_type": "code",
   "execution_count": 140,
   "metadata": {},
   "outputs": [
    {
     "name": "stdout",
     "output_type": "stream",
     "text": [
      "No of roles : \n",
      "154727\n"
     ]
    }
   ],
   "source": [
    "actor_roles_1950s = len(cast[(cast.year//10 == 195) & (cast.type == 'actor')])\n",
    "print(\"No of roles : \")\n",
    "print(actor_roles_1950s)"
   ]
  },
  {
   "cell_type": "code",
   "execution_count": null,
   "metadata": {
    "collapsed": true
   },
   "outputs": [],
   "source": []
  },
  {
   "cell_type": "markdown",
   "metadata": {
    "collapsed": true
   },
   "source": [
    "### How many roles were available for actresses in the 1950s?"
   ]
  },
  {
   "cell_type": "code",
   "execution_count": 148,
   "metadata": {},
   "outputs": [
    {
     "name": "stdout",
     "output_type": "stream",
     "text": [
      "No of roles : \n",
      "56259\n"
     ]
    }
   ],
   "source": [
    "actress_roles_1950s = len(cast[(cast.year//10 == 195) & (cast.type == 'actress')])\n",
    "print(\"No of roles : \")\n",
    "print(actress_roles_1950s)"
   ]
  },
  {
   "cell_type": "code",
   "execution_count": null,
   "metadata": {
    "collapsed": true
   },
   "outputs": [],
   "source": []
  },
  {
   "cell_type": "markdown",
   "metadata": {
    "collapsed": true
   },
   "source": [
    "### How many leading roles (n=1) were available from the beginning of film history through 1980?"
   ]
  },
  {
   "cell_type": "code",
   "execution_count": 150,
   "metadata": {},
   "outputs": [
    {
     "name": "stdout",
     "output_type": "stream",
     "text": [
      "63924\n"
     ]
    }
   ],
   "source": [
    "leading_roles_1980 = len(cast[(cast.year <= 1980) & (cast.n == 1)])\n",
    "print(leading_roles_1980)"
   ]
  },
  {
   "cell_type": "code",
   "execution_count": null,
   "metadata": {
    "collapsed": true
   },
   "outputs": [],
   "source": []
  },
  {
   "cell_type": "markdown",
   "metadata": {
    "collapsed": true
   },
   "source": [
    "### How many non-leading roles were available through from the beginning of film history through 1980?"
   ]
  },
  {
   "cell_type": "code",
   "execution_count": 151,
   "metadata": {},
   "outputs": [
    {
     "name": "stdout",
     "output_type": "stream",
     "text": [
      "1094780\n"
     ]
    }
   ],
   "source": [
    "non_leading_roles_1980 = len(cast[(cast.year <= 1980) & (cast.n != 1)])\n",
    "print(non_leading_roles_1980)"
   ]
  },
  {
   "cell_type": "code",
   "execution_count": null,
   "metadata": {
    "collapsed": true
   },
   "outputs": [],
   "source": []
  },
  {
   "cell_type": "markdown",
   "metadata": {
    "collapsed": true
   },
   "source": [
    "### How many roles through 1980 were minor enough that they did not warrant a numeric \"n\" rank?"
   ]
  },
  {
   "cell_type": "code",
   "execution_count": 153,
   "metadata": {},
   "outputs": [
    {
     "name": "stdout",
     "output_type": "stream",
     "text": [
      "438086\n"
     ]
    }
   ],
   "source": [
    "minor_leading_roles_1980 = len(cast[(cast.year <= 1980) & (cast.n.isnull())])\n",
    "print(minor_leading_roles_1980)"
   ]
  },
  {
   "cell_type": "code",
   "execution_count": null,
   "metadata": {
    "collapsed": true
   },
   "outputs": [],
   "source": []
  }
 ],
 "metadata": {
  "kernelspec": {
   "display_name": "Python 3 (ipykernel)",
   "language": "python",
   "name": "python3"
  },
  "language_info": {
   "codemirror_mode": {
    "name": "ipython",
    "version": 3
   },
   "file_extension": ".py",
   "mimetype": "text/x-python",
   "name": "python",
   "nbconvert_exporter": "python",
   "pygments_lexer": "ipython3",
   "version": "3.11.4"
  }
 },
 "nbformat": 4,
 "nbformat_minor": 1
}
